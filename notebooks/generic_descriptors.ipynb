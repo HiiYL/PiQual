{
 "cells": [
  {
   "cell_type": "code",
   "execution_count": 4,
   "metadata": {
    "collapsed": true
   },
   "outputs": [],
   "source": [
    "import numpy as np\n",
    "import h5py\n",
    "import os\n",
    "import cv2\n",
    "from sklearn.decomposition import PCA\n",
    "import ggmm.gpu as ggmm\n",
    "\n",
    "from sklearn import svm\n",
    "from sklearn.metrics import accuracy_score\n",
    "\n",
    "\n",
    "import pandas as pd\n",
    "from pandas import HDFStore, DataFrame\n",
    "import pickle\n",
    "#import pdb"
   ]
  },
  {
   "cell_type": "code",
   "execution_count": 2,
   "metadata": {
    "collapsed": true
   },
   "outputs": [],
   "source": [
    "dataset_dir = '../dataset_h5/'\n",
    "skipped_indices = []\n",
    "filename = 'images_224_delta_1.5.h5'\n",
    "test_filename = 'images_224.h5'"
   ]
  },
  {
   "cell_type": "code",
   "execution_count": 5,
   "metadata": {
    "collapsed": false
   },
   "outputs": [
    {
     "data": {
      "text/plain": [
       "0.56685243761610682"
      ]
     },
     "execution_count": 5,
     "metadata": {},
     "output_type": "execute_result"
    }
   ],
   "source": [
    "# try:\n",
    "#     labels_train = np.load(\"labels_train.npy\")\n",
    "#     fv = np.load(\"fisher_vector.npy\")\n",
    "# except FileNotFoundError:\n",
    "#     h5f = h5py.File(os.path.join(dataset_dir,filename),'r')\n",
    "#     skipped_indices, fv = process_images(h5f['data'])\n",
    "#     labels_train = load_labels(skipped_indices, 'labels_train')\n",
    "#     np.save(\"labels_train.npy\",labels_train )\n",
    "#     np.save(\"fisher_vector.npy\",fv )\n",
    "# \n",
    "# classifier = train(fv,labels_train)\n",
    "# pickle.dump( classifier, open( \"classifier.p\", \"wb\" ) ) \n",
    "classifier = pickle.load( open( \"classifier.p\", \"rb\" ) )\n",
    "try:\n",
    "    labels_test = np.load(\"labels_test.npy\")\n",
    "    fv_test = np.load(\"fisher_vector_test.npy\")\n",
    "except FileNotFoundError:\n",
    "    h5f_test = h5py.File(os.path.join(dataset_dir,test_filename),'r')\n",
    "    skipped_indices_test, fv_test = process_images(h5f_test['data_test'])\n",
    "    labels_test = load_labels(skipped_indices_test, 'labels_test')\n",
    "    np.save(\"labels_test.npy\",labels_test )\n",
    "    np.save(\"fisher_vector_test.npy\",fv_test )\n",
    "\n",
    "\n",
    "accuracy_score(labels_test, classifier.predict(fv_test))"
   ]
  },
  {
   "cell_type": "code",
   "execution_count": null,
   "metadata": {
    "collapsed": true
   },
   "outputs": [],
   "source": []
  }
 ],
 "metadata": {
  "anaconda-cloud": {},
  "kernelspec": {
   "display_name": "Python [Root]",
   "language": "python",
   "name": "Python [Root]"
  },
  "language_info": {
   "codemirror_mode": {
    "name": "ipython",
    "version": 3
   },
   "file_extension": ".py",
   "mimetype": "text/x-python",
   "name": "python",
   "nbconvert_exporter": "python",
   "pygments_lexer": "ipython3",
   "version": "3.5.2"
  }
 },
 "nbformat": 4,
 "nbformat_minor": 0
}
