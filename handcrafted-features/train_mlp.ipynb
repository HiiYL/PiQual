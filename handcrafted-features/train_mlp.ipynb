{
 "cells": [
  {
   "cell_type": "code",
   "execution_count": 1,
   "metadata": {
    "collapsed": false
   },
   "outputs": [
    {
     "name": "stderr",
     "output_type": "stream",
     "text": [
      "Using Theano backend.\n",
      "Using gpu device 0: GeForce GTX 1070 (CNMeM is enabled with initial size: 80.0% of memory, cuDNN 5005)\n"
     ]
    }
   ],
   "source": [
    "from scipy import ndimage, misc\n",
    "import numpy as np\n",
    "import os\n",
    "import pandas as pd\n",
    "from pandas import HDFStore, DataFrame\n",
    "\n",
    "import h5py\n",
    "\n",
    "from keras.models import Sequential\n",
    "from keras.layers import Dense, Activation\n",
    "from keras.layers.core import Flatten, Dense, Dropout\n",
    "from keras.layers.convolutional import Convolution2D, MaxPooling2D, ZeroPadding2D\n",
    "from keras.utils.np_utils import to_categorical\n",
    "from keras.preprocessing.image import ImageDataGenerator\n",
    "from keras.optimizers import SGD"
   ]
  },
  {
   "cell_type": "code",
   "execution_count": 12,
   "metadata": {
    "collapsed": true
   },
   "outputs": [],
   "source": [
    "dataset_dir = ('../dataset/')"
   ]
  },
  {
   "cell_type": "code",
   "execution_count": 13,
   "metadata": {
    "collapsed": false
   },
   "outputs": [],
   "source": [
    "store = HDFStore(os.path.join(dataset_dir,'labels.h5'))\n",
    "ava_table = store['labels_train']\n",
    "Y_test =  to_categorical(store['labels_test'].ix[:,'good'].as_matrix(),2)\n"
   ]
  },
  {
   "cell_type": "code",
   "execution_count": 14,
   "metadata": {
    "collapsed": false
   },
   "outputs": [],
   "source": [
    "h5f = h5py.File(os.path.join(dataset_dir,'images.h5'),'r')\n",
    "X = h5f['data_test'][:]\n",
    "X_test = np.hstack(X).reshape(19924,-1)"
   ]
  },
  {
   "cell_type": "code",
   "execution_count": 15,
   "metadata": {
    "collapsed": true
   },
   "outputs": [],
   "source": [
    "X_train = np.hstack(h5f['data']).reshape(100000,-1) \n",
    "Y_train = ava_table.ix[:, \"good\"].as_matrix()\n",
    "Y_train = to_categorical(Y_train, 2)\n",
    "\n",
    "Y_train = Y_train[:100000]"
   ]
  },
  {
   "cell_type": "code",
   "execution_count": 16,
   "metadata": {
    "collapsed": true
   },
   "outputs": [],
   "source": [
    "X_train = X_train.astype('float32')\n",
    "X_test = X_test.astype('float32')\n",
    "\n",
    "X_train -= np.mean(X_train)\n",
    "X_test -= np.mean(X_test)\n",
    "\n",
    "X_train /= 255\n",
    "X_test /= 255"
   ]
  },
  {
   "cell_type": "code",
   "execution_count": 17,
   "metadata": {
    "collapsed": true
   },
   "outputs": [],
   "source": [
    "model = Sequential()\n",
    "model.add(Dense(64, input_dim=12288, activation='relu'))\n",
    "model.add(Dropout(0.5))\n",
    "model.add(Dense(64, activation='relu'))\n",
    "model.add(Dropout(0.5))\n",
    "model.add(Dense(64, activation='relu'))\n",
    "model.add(Dropout(0.5))\n",
    "model.add(Dense(2, activation='softmax'))\n",
    "\n",
    "model.compile(loss='categorical_crossentropy',\n",
    "              optimizer='adam',\n",
    "              metrics=['accuracy'])"
   ]
  },
  {
   "cell_type": "code",
   "execution_count": 20,
   "metadata": {
    "collapsed": false
   },
   "outputs": [
    {
     "name": "stdout",
     "output_type": "stream",
     "text": [
      "Epoch 1/20\n",
      "100000/100000 [==============================] - 3s - loss: 0.6334 - acc: 0.7152     \n",
      "Epoch 2/20\n",
      "100000/100000 [==============================] - 3s - loss: 0.5827 - acc: 0.7326     \n",
      "Epoch 3/20\n",
      "100000/100000 [==============================] - 3s - loss: 0.5818 - acc: 0.7325     \n",
      "Epoch 4/20\n",
      "100000/100000 [==============================] - 3s - loss: 0.5813 - acc: 0.7325     \n",
      "Epoch 5/20\n",
      "100000/100000 [==============================] - 3s - loss: 0.5812 - acc: 0.7325     \n",
      "Epoch 6/20\n",
      "100000/100000 [==============================] - 3s - loss: 0.5811 - acc: 0.7325     \n",
      "Epoch 7/20\n",
      "100000/100000 [==============================] - 3s - loss: 0.5813 - acc: 0.7325     \n",
      "Epoch 8/20\n",
      "100000/100000 [==============================] - 3s - loss: 0.5813 - acc: 0.7325     \n",
      "Epoch 9/20\n",
      "100000/100000 [==============================] - 3s - loss: 0.5811 - acc: 0.7325     \n",
      "Epoch 10/20\n",
      "100000/100000 [==============================] - 3s - loss: 0.5812 - acc: 0.7325     \n",
      "Epoch 11/20\n",
      "100000/100000 [==============================] - 3s - loss: 0.5810 - acc: 0.7326     \n",
      "Epoch 12/20\n",
      "100000/100000 [==============================] - 3s - loss: 0.5811 - acc: 0.7325     \n",
      "Epoch 13/20\n",
      "100000/100000 [==============================] - 3s - loss: 0.5811 - acc: 0.7326     \n",
      "Epoch 14/20\n",
      "100000/100000 [==============================] - 3s - loss: 0.5813 - acc: 0.7325     \n",
      "Epoch 15/20\n",
      "100000/100000 [==============================] - 3s - loss: 0.5813 - acc: 0.7326     \n",
      "Epoch 16/20\n",
      "100000/100000 [==============================] - 3s - loss: 0.5810 - acc: 0.7325     \n",
      "Epoch 17/20\n",
      "100000/100000 [==============================] - 3s - loss: 0.5809 - acc: 0.7326     \n",
      "Epoch 18/20\n",
      "100000/100000 [==============================] - 3s - loss: 0.5812 - acc: 0.7325     \n",
      "Epoch 19/20\n",
      "100000/100000 [==============================] - 3s - loss: 0.5815 - acc: 0.7325     \n",
      "Epoch 20/20\n",
      "100000/100000 [==============================] - 3s - loss: 0.5807 - acc: 0.7326     \n"
     ]
    },
    {
     "data": {
      "text/plain": [
       "<keras.callbacks.History at 0x7f25a7e3de10>"
      ]
     },
     "execution_count": 20,
     "metadata": {},
     "output_type": "execute_result"
    }
   ],
   "source": [
    "model.fit(X_train, Y_train, nb_epoch=20, batch_size=64)"
   ]
  },
  {
   "cell_type": "code",
   "execution_count": 24,
   "metadata": {
    "collapsed": false
   },
   "outputs": [
    {
     "name": "stdout",
     "output_type": "stream",
     "text": [
      "19904/19924 [============================>.] - ETA: 0s\n",
      "Test score: 0.762075347897\n",
      "Test accuracy: 0.55154587431\n"
     ]
    }
   ],
   "source": [
    "score = model.evaluate(X_test, Y_test)\n",
    "\n",
    "print()\n",
    "print('Test score:', score[0])\n",
    "print('Test accuracy:', score[1])"
   ]
  },
  {
   "cell_type": "code",
   "execution_count": 29,
   "metadata": {
    "collapsed": false,
    "scrolled": false
   },
   "outputs": [],
   "source": [
    "#from keras.utils.visualize_util import plot\n",
    "#plot(model, to_file='model.png')"
   ]
  },
  {
   "cell_type": "code",
   "execution_count": null,
   "metadata": {
    "collapsed": true
   },
   "outputs": [],
   "source": []
  }
 ],
 "metadata": {
  "kernelspec": {
   "display_name": "Python 3",
   "language": "python",
   "name": "python3"
  },
  "language_info": {
   "codemirror_mode": {
    "name": "ipython",
    "version": 3
   },
   "file_extension": ".py",
   "mimetype": "text/x-python",
   "name": "python",
   "nbconvert_exporter": "python",
   "pygments_lexer": "ipython3",
   "version": "3.4.3"
  }
 },
 "nbformat": 4,
 "nbformat_minor": 0
}
